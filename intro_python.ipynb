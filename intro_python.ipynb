{
  "cells": [
    {
      "cell_type": "markdown",
      "metadata": {
        "id": "jZTN4L9_Z07H"
      },
      "source": [
        "<a href=\"https://colab.research.google.com/github/mcd-unison/material-programacion/blob/main/intro-python.ipynb\" target=\"_parent\"><img src=\"https://colab.research.google.com/assets/colab-badge.svg\" alt=\"Open In Colab\"/></a>"
      ]
    },
    {
      "cell_type": "markdown",
      "metadata": {
        "id": "_t_3NbR2Z07X"
      },
      "source": [
        "<center>\n",
        "<p><img src=\"https://mcd.unison.mx/wp-content/themes/awaken/img/logo_mcd.png\" width=\"100\">\n",
        "</p>\n",
        "\n",
        "\n",
        "\n",
        "# Curso Propedéutico en *Programación*\n",
        "\n",
        "## Introducción a `python` resolviendo preguntas\n",
        "\n",
        "\n",
        "**Julio Waissman Vilanova**\n",
        "\n"
      ]
    },
    {
      "cell_type": "markdown",
      "metadata": {
        "id": "rdP9bOFnZ07a"
      },
      "source": [
        "### Tipos\n",
        "\n",
        "¿Cuales son los tipos de datos básicos? Revisa los tipos siguientes:\n",
        "\n",
        "1. Tipos numéricos `int`, `float`, `complex`\n",
        "2. Cadenas de caracteres\n",
        "3. Tuplas\n",
        "4. Listas\n",
        "5. Diccionarios\n",
        "6. Conjuntos\n",
        "\n",
        "Da ejemplo de sobrecarga de operadores (en particular `+` y `*`)\n",
        "\n"
      ]
    },
    {
      "cell_type": "code",
      "execution_count": 2,
      "metadata": {
        "id": "-5BZMxhZZ07c"
      },
      "outputs": [],
      "source": [
        "a=1 #int\n",
        "b=3.14 #float\n",
        "c=2+3j #complex\n",
        "d = \"texto1\" #cadena de carateres\n",
        "t = (1,2) #tuplo\n",
        "lista = [1,2,3] #lista\n",
        "d = {a:1, b:2, c:d} #diccionario\n",
        "conjunto =set([1, 2, 3]) #conjunto"
      ]
    },
    {
      "cell_type": "markdown",
      "metadata": {
        "id": "ZVcMcj0sZ07e"
      },
      "source": [
        "¿Que significa que unos tipos sean *mutables* y otros *inmutables*?\n",
        "\n",
        "Realiza un pequeño programa donde quede claro lo que significa que un tipo de datos sea mutable, e ilustra el uso del método `copy.deepcopy()`."
      ]
    },
    {
      "cell_type": "code",
      "execution_count": 4,
      "metadata": {
        "id": "5bnpuL7GZ07f",
        "outputId": "0900797f-120e-4b66-db72-5266885bb657",
        "colab": {
          "base_uri": "https://localhost:8080/"
        }
      },
      "outputs": [
        {
          "output_type": "stream",
          "name": "stdout",
          "text": [
            "Lista 1: [1, 2, 3, 4]\n",
            "Lista 2: [1, 2, 3, 4]\n"
          ]
        }
      ],
      "source": [
        "l=[1,2,3]\n",
        "l2 = l\n",
        "l2.append(4)\n",
        "print(\"Lista 1:\", l)\n",
        "print(\"Lista 2:\",l2)"
      ]
    },
    {
      "cell_type": "code",
      "source": [
        "import copy\n",
        "l2 =copy.deepcopy(l)\n",
        "l2.append(5)\n",
        "print(\"Lista 1:\", l)\n",
        "print(\"Lista 2:\",l2)"
      ],
      "metadata": {
        "id": "u2vzt4IHrooU",
        "outputId": "00398595-5700-43ad-f99e-0eb6042fc66f",
        "colab": {
          "base_uri": "https://localhost:8080/"
        }
      },
      "execution_count": 7,
      "outputs": [
        {
          "output_type": "stream",
          "name": "stdout",
          "text": [
            "Lista 1: [1, 2, 3, 4]\n",
            "Lista 2: [1, 2, 3, 4, 5]\n"
          ]
        }
      ]
    },
    {
      "cell_type": "markdown",
      "metadata": {
        "id": "pYDqqB_hZ07g"
      },
      "source": [
        "### *Comprehension* de listas, conjuntos y diccionarios\n",
        "\n",
        "Escribe, en una sola linea, una expresión que genere una lista con la raíz cuadrada de todos los números enteros que se encuentran entre $1$ y $n$\n",
        "que sean divisibles por $3$ y $7$ y que el dígito menos significativo del número sea $6$."
      ]
    },
    {
      "cell_type": "code",
      "execution_count": 8,
      "metadata": {
        "id": "Cso3Sq4IZ07l",
        "outputId": "badba372-992a-4421-8d01-ae31aad94096",
        "colab": {
          "base_uri": "https://localhost:8080/"
        }
      },
      "outputs": [
        {
          "output_type": "execute_result",
          "data": {
            "text/plain": [
              "[11.224972160321824,\n",
              " 18.33030277982336,\n",
              " 23.366642891095847,\n",
              " 27.49545416973504,\n",
              " 31.080540535840107,\n",
              " 34.292856398964496,\n",
              " 37.22902093797257,\n",
              " 39.949968710876355,\n",
              " 42.49705872175156,\n",
              " 44.8998886412873,\n",
              " 47.18050444834179,\n",
              " 49.35585071701227,\n",
              " 51.43928459844674,\n",
              " 53.44155686354955,\n",
              " 55.37147279962851,\n",
              " 57.23635208501674,\n",
              " 59.04235767650204,\n",
              " 60.794736614282655,\n",
              " 62.49799996799898,\n",
              " 64.15605972938177,\n",
              " 65.7723346096214,\n",
              " 67.34983296193094,\n",
              " 68.89121859859934,\n",
              " 70.39886362719217,\n",
              " 71.87489130426563,\n",
              " 73.32121111929344,\n",
              " 74.73954776421918,\n",
              " 76.13146524269712,\n",
              " 77.49838707999025,\n",
              " 78.8416133777081,\n",
              " 80.16233529532433,\n",
              " 81.4616474176652,\n",
              " 82.74055837375042,\n",
              " 84.0,\n",
              " 85.24083528450434,\n",
              " 86.46386528486914,\n",
              " 87.66983517721475,\n",
              " 88.85943956609225,\n",
              " 90.033327162779,\n",
              " 91.19210492142398,\n",
              " 92.33634170791044,\n",
              " 93.46657156438339,\n",
              " 94.58329662260668,\n",
              " 95.68698971124549,\n",
              " 96.77809669548166,\n",
              " 97.85703858180054,\n",
              " 98.92421341612983,\n",
              " 99.9799979995999]"
            ]
          },
          "metadata": {},
          "execution_count": 8
        }
      ],
      "source": [
        "n = 10_000\n",
        "\n",
        "# Escribe aqui el *one linner*\n",
        "lista = [x**(1/2) for x in range(1,n+1) if x%3 ==0 and x%7 ==0 and x%10==6]\n",
        "lista"
      ]
    },
    {
      "cell_type": "markdown",
      "metadata": {
        "id": "TuSK5G1EZ07o"
      },
      "source": [
        "### Funciones\n",
        "\n",
        "Escribe una función que:\n",
        "\n",
        "1. reciba una lista de elementos (letras, números, lo que sea),\n",
        "2. cuente la ocurrencia de cada elemento en la lista,\n",
        "3. devuelva las ocurrencias en forma de diccionario,\n",
        "4. si imprime es True, imprima un histograma de ocurrencias, por ejemplo:\n",
        "\n",
        "```python\n",
        "\n",
        "lista = [1,'a',1, 13, 'hola', 'a', 1, 1, 'a', 1]\n",
        "\n",
        "d = funcion_ejemplo(lista, imprime = True)\n",
        "\n",
        "1    \t\t***** \t(5 -> 50%)\n",
        "'a'  \t\t***   \t(3 -> 30%)\n",
        "13\t\t*\t(1 -> 10%)\n",
        "'hola'\t\t*\t(1 -> 10%)\n",
        "\n",
        "```"
      ]
    },
    {
      "cell_type": "code",
      "execution_count": 14,
      "metadata": {
        "id": "uTIOdpRKZ07p"
      },
      "outputs": [],
      "source": [
        "# Escribe la función aquí\n",
        "def funcion_ejemplo(lista, imprime=False):\n",
        "  \"\"\"\n",
        "  Genera un diccionario con las ocurrencias de cada elemento diferente de lista.\n",
        "  Si imprime==True, imprime las ocurrencias.\n",
        "  \"\"\"\n",
        "  d={x: lista.count(x) for x in set(lista)}\n",
        "  if imprime:\n",
        "    for (key, val) in d.items():\n",
        "      print(f\"{key}\\t\\t{val * '*'}\\t\\t({val}-->({val/len(lista):.0%}))\")\n",
        "\n",
        "  return d\n",
        "\n"
      ]
    },
    {
      "cell_type": "code",
      "execution_count": 15,
      "metadata": {
        "id": "5xWN-_FsZ07q",
        "outputId": "1022911e-68b8-45c2-dc1a-89647ab07abe",
        "colab": {
          "base_uri": "https://localhost:8080/"
        }
      },
      "outputs": [
        {
          "output_type": "stream",
          "name": "stdout",
          "text": [
            "1\t\t*****\t\t(5-->(50%))\n",
            "a\t\t***\t\t(3-->(30%))\n",
            "13\t\t*\t\t(1-->(10%))\n",
            "hola\t\t*\t\t(1-->(10%))\n",
            "{1: 5, 'a': 3, 13: 1, 'hola': 1}\n"
          ]
        }
      ],
      "source": [
        "# Realiza pruebas aquí\n",
        "lista = [1,'a',1, 13, 'hola', 'a', 1, 1, 'a', 1]\n",
        "d = funcion_ejemplo(lista, imprime = True)\n",
        "print(d)"
      ]
    },
    {
      "cell_type": "markdown",
      "metadata": {
        "id": "sKmFzdPxZ07r"
      },
      "source": [
        "Escribe una función que modifique un diccionario y regrese el diccionario modificado y una copia del original, donde cada entrada\n",
        "del diccionario sea una lista de valores. Ten en cuenta que si una entrada del diccionario es de tipo mutable, al modificarlo en la\n",
        "copia se modifica el original. Utiliza el modulo `copy` para evitar este problema. Ejemplo de la función:\n",
        "\n",
        "```python\n",
        "dic1 = {'Pepe':[12, 'enero', 1980], 'Carolina':[15,'mayo',1975],'Paco':[10,'nov',1970]}\n",
        "dic2 = fundicos(dic1, 'Pepe', 1, 'febrero')\n",
        "\n",
        "print(dic1)\n",
        "{'Pepe':[12, 'enero', 1980], 'Carolina':[15,'mayo',1975],'Paco':[10,'nov',1970]}\n",
        "\n",
        "print(dic2)\n",
        "{'Pepe':[12, 'febrero', 1980], 'Carolina':[15,'mayo',1975],'Paco':[10,'nov',1970]}\n",
        "```"
      ]
    },
    {
      "cell_type": "code",
      "execution_count": 16,
      "metadata": {
        "id": "-g-J9H5SZ07t"
      },
      "outputs": [],
      "source": [
        "# Escribe la función fundicos aquí\n",
        "import copy\n",
        "\n",
        "def fundicos(dic, key, index, modif):\n",
        "    \"\"\"\n",
        "    Modifica un dato de un diccionario y regresa tanto el diccionario modificado como una copia del original.\n",
        "    \"\"\"\n",
        "    dic_copia = copy.deepcopy(dic)\n",
        "\n",
        "    if key in dic_copia and index < len(dic_copia[key]):\n",
        "        dic_copia[key][index] = modif\n",
        "\n",
        "    return dic, dic_copia"
      ]
    },
    {
      "cell_type": "code",
      "execution_count": 17,
      "metadata": {
        "id": "5brATHwjZ07u",
        "outputId": "0f60cca0-7b02-4c72-cf26-dd3897aad327",
        "colab": {
          "base_uri": "https://localhost:8080/"
        }
      },
      "outputs": [
        {
          "output_type": "stream",
          "name": "stdout",
          "text": [
            "{'Pepe': [12, 'enero', 1980], 'Carolina': [15, 'mayo', 1975], 'Paco': [10, 'nov', 1970]}\n",
            "({'Pepe': [12, 'enero', 1980], 'Carolina': [15, 'mayo', 1975], 'Paco': [10, 'nov', 1970]}, {'Pepe': [12, 'febrero', 1980], 'Carolina': [15, 'mayo', 1975], 'Paco': [10, 'nov', 1970]})\n"
          ]
        }
      ],
      "source": [
        "# Realiza pruebas de fundicos aquí\n",
        "dic1 = {'Pepe':[12, 'enero', 1980], 'Carolina':[15,'mayo',1975],'Paco':[10,'nov',1970]}\n",
        "dic2 = fundicos(dic1, 'Pepe', 1, 'febrero')\n",
        "\n",
        "print(dic1)\n",
        "print(dic2)"
      ]
    },
    {
      "cell_type": "markdown",
      "metadata": {
        "id": "jme6gMwVZ07v"
      },
      "source": [
        "### Generadores\n",
        "\n",
        "Escribe un generador que reciba una lista y genere todas las permutaciones que se puedan hacer con los elementos de la lista"
      ]
    },
    {
      "cell_type": "code",
      "execution_count": 20,
      "metadata": {
        "id": "UR6KN-yNZ07w"
      },
      "outputs": [],
      "source": [
        "# Escribe aqui fun1\n",
        "\n",
        "def permutaciones(lista):\n",
        "    \"\"\"\n",
        "    Permutaciones de los elementos de una lista.\n",
        "\n",
        "    Devuelve un generador con todas las permutaciones posibles de los elementos de la lista de entrada\n",
        "    \"\"\"\n",
        "    #paso base\n",
        "    if len(lista) == 0:\n",
        "      yield lista\n",
        "    else:\n",
        "      for (i,elemento) in enumerate(lista):\n",
        "        lista_menos_elem= lista[:i] + lista[i+1:]\n",
        "        for perm in permutaciones(lista_menos_elem):\n",
        "          yield [elemento] + perm"
      ]
    },
    {
      "cell_type": "code",
      "execution_count": 21,
      "metadata": {
        "id": "vN5afKsvZ070",
        "outputId": "8ef642bc-e650-4558-c7a8-ff1412414c79",
        "colab": {
          "base_uri": "https://localhost:8080/"
        }
      },
      "outputs": [
        {
          "output_type": "stream",
          "name": "stdout",
          "text": [
            "['a', 'b', 'c', 'd']\n",
            "['a', 'b', 'd', 'c']\n",
            "['a', 'c', 'b', 'd']\n",
            "['a', 'c', 'd', 'b']\n",
            "['a', 'd', 'b', 'c']\n",
            "['a', 'd', 'c', 'b']\n",
            "['b', 'a', 'c', 'd']\n",
            "['b', 'a', 'd', 'c']\n",
            "['b', 'c', 'a', 'd']\n",
            "['b', 'c', 'd', 'a']\n",
            "['b', 'd', 'a', 'c']\n",
            "['b', 'd', 'c', 'a']\n",
            "['c', 'a', 'b', 'd']\n",
            "['c', 'a', 'd', 'b']\n",
            "['c', 'b', 'a', 'd']\n",
            "['c', 'b', 'd', 'a']\n",
            "['c', 'd', 'a', 'b']\n",
            "['c', 'd', 'b', 'a']\n",
            "['d', 'a', 'b', 'c']\n",
            "['d', 'a', 'c', 'b']\n",
            "['d', 'b', 'a', 'c']\n",
            "['d', 'b', 'c', 'a']\n",
            "['d', 'c', 'a', 'b']\n",
            "['d', 'c', 'b', 'a']\n"
          ]
        }
      ],
      "source": [
        "# Realiza pruebas de fun2 aquí\n",
        "for p in permutaciones(['a', 'b', 'c', 'd']):\n",
        "    print(p)"
      ]
    },
    {
      "cell_type": "markdown",
      "metadata": {
        "id": "ao_rdn9uZ071"
      },
      "source": [
        "Ahora escribe una funcipn que reciba 4 digitos del 0 al 9, y devuelva una lista con todas las horas váidas que se puedan hacer con estos dígitos en forma de lista de strings con la forma `\"HH:MM\"`."
      ]
    },
    {
      "cell_type": "code",
      "execution_count": 22,
      "metadata": {
        "id": "Mtcx_IcUZ072"
      },
      "outputs": [],
      "source": [
        "from itertools import permutations\n",
        "\n",
        "def horas_validas(lista):\n",
        "    \"\"\"\n",
        "    Devuelve una lista con todas las horas válidas a partir de 4 digitos.\n",
        "    \"\"\"\n",
        "    permutaciones = permutations(lista)\n",
        "    horas = []\n",
        "    for p in permutaciones:\n",
        "        hora = p[0]*10 + p[1]\n",
        "        minutos = p[2]*10 + p[3]\n",
        "\n",
        "        if hora<24 and minutos<60:\n",
        "          horas.append(f\"{hora:02d}:{minutos:02d}\")\n",
        "\n",
        "    return horas"
      ]
    },
    {
      "cell_type": "markdown",
      "metadata": {
        "id": "VmAgmAm8Z073"
      },
      "source": [
        "Validando:"
      ]
    },
    {
      "cell_type": "code",
      "execution_count": 24,
      "metadata": {
        "id": "7Lo0LlYgZ073",
        "outputId": "1c6b6a25-4e93-40f3-bcda-a51f1551f9e8",
        "colab": {
          "base_uri": "https://localhost:8080/"
        }
      },
      "outputs": [
        {
          "output_type": "stream",
          "name": "stdout",
          "text": [
            "['12:37', '13:27', '17:23', '17:32', '21:37', '23:17']\n"
          ]
        }
      ],
      "source": [
        "print(horas_validas([1,2,3,7]))"
      ]
    },
    {
      "cell_type": "markdown",
      "metadata": {
        "id": "7Xjp8FjkZ074"
      },
      "source": [
        "Escribe una función, lo más compacta posible, que escoja entre los 3 patrones ascii a continuación, e imprima en pantalla\n",
        "el deseado, pero de dimensión $n$ ($n \\ge 4$), toma en cuanta que para algunos valores de $n$ habrá\n",
        "algún(os) patrones que no se puedan hacer.\n",
        "\n",
        "```\n",
        "          *             ++++           oooooooo\n",
        "          **            ++++           ooo  ooo\n",
        "          ***           ++++           oo    oo\n",
        "          ****          ++++           o      o\n",
        "          *****             ++++       o      o\n",
        "          ******            ++++       oo    oo\n",
        "          *******           ++++       ooo  ooo\n",
        "          ********          ++++       oooooooo\n",
        "\n",
        "```"
      ]
    },
    {
      "cell_type": "code",
      "execution_count": 31,
      "metadata": {
        "id": "u2rmrZ5cZ074"
      },
      "outputs": [],
      "source": [
        "# Escribe aquí la función\n",
        "def imprimir_patron(n):\n",
        "  \"\"\"\n",
        "  Imprime una figura de caracteres dependiendo del valor n.\n",
        "  \"\"\"\n",
        "  if n >= 4:\n",
        "      if n % 2 == 0:\n",
        "           print(\"+\" * (n // 2))\n",
        "           for i in range(1, n // 2):\n",
        "            print(\"+\" * (n // 2 - i), \"o\" * (2 * i), \"o\" * (2 * i), \"+\" * (n // 2 - i), sep=\"\")\n",
        "      else:\n",
        "        print(\"*\" * n)\n",
        "        for i in range(1, n // 2 + 1):\n",
        "          print(\"*\" * (n // 2 + 1 - i), \"o\" * (2 * i - 1), \"o\" * (2 * i - 1), \"*\" * (n // 2 + 1 - i), sep=\"\")\n"
      ]
    },
    {
      "cell_type": "code",
      "execution_count": 38,
      "metadata": {
        "id": "RMKJnHdfZ075",
        "outputId": "78e7170c-f39d-4fc7-b356-330e886b7955",
        "colab": {
          "base_uri": "https://localhost:8080/"
        }
      },
      "outputs": [
        {
          "output_type": "stream",
          "name": "stdout",
          "text": [
            "+++++\n",
            "++++oooo++++\n",
            "+++oooooooo+++\n",
            "++oooooooooooo++\n",
            "+oooooooooooooooo+\n"
          ]
        }
      ],
      "source": [
        "#Realiza pruebas aquí\n",
        "imprimir_patron(10)"
      ]
    },
    {
      "cell_type": "markdown",
      "metadata": {
        "id": "undKpku2Z075"
      },
      "source": [
        "### Clases y objetos\n",
        "\n",
        "Diseña una clase Matriz con las siguientes características:\n",
        "\n",
        "1. Como inicialización de un objeto es necesario conocer $n$, $m$ y tipo. En caso de no proporcionar $m$ la matriz se asume cuadrada de $n \\times n$. En caso de no proporcionar $n$ la matriz tendrá una dimensión de $1 \\times 1$.\n",
        "2. De no especificarse todos los elementos se inicializan a 0, a menos que exista un tipo especial ( `unos` o `diag` por el momento).\n",
        "3. Implementa con sobrecarga la suma de matrices, la multiplicación de matrices y la multiplicación por un escalar.\n",
        "4. Implementa como métodos eliminar columna y eliminar fila.   \n",
        "5. Programa la representación visual de la matriz.\n",
        "6. Ten en cuenta tambien el manejo de errores.\n",
        "\n",
        "\n",
        "Ejemplo de uso:\n",
        "\n",
        "```\n",
        ">>> A = Matriz(n=3, m=4)\n",
        "\n",
        ">>> print(A)\n",
        "0 0 0 0\n",
        "0 0 0 0\n",
        "0 0 0 0\n",
        "\n",
        ">>> A = A.quitafila(2)\n",
        "\n",
        ">>> print(A)\n",
        "0 0 0 0\n",
        "0 0 0 0\n",
        "\n",
        ">>> B = Matriz(4,4,'diag')\n",
        "\n",
        ">>> print(B)\n",
        "1 0 0 0\n",
        "0 1 0 0\n",
        "0 0 1 0\n",
        "0 0 0 1\n",
        "\n",
        ">>> C = Matriz(4,1,'unos')\n",
        "\n",
        ">>> print(C)\n",
        "1\n",
        "1\n",
        "1\n",
        "1\n",
        "\n",
        ">>> D = 3 * B * C\n",
        "\n",
        ">>> print(D)\n",
        "3\n",
        "3\n",
        "3\n",
        "3\n",
        "\n",
        ">>> E = 3 * B + C\n",
        "error \"No seas menso, si no son de la misma dimensión las matrices no se pueden sumar\"\n",
        "```"
      ]
    },
    {
      "cell_type": "code",
      "execution_count": null,
      "metadata": {
        "id": "SYqBP6JNZ076"
      },
      "outputs": [],
      "source": [
        "# Desarrolla aqui la clase\n"
      ]
    },
    {
      "cell_type": "code",
      "execution_count": null,
      "metadata": {
        "id": "ENZmc4VXZ076"
      },
      "outputs": [],
      "source": [
        "# Realiza las pruebas a la clase aquí\n",
        "\n",
        "A = Matriz(n=3, m=4)\n",
        "print('A =', A)\n",
        "\n",
        "A = A.quitafila(2)\n",
        "print('A = ', A)\n",
        "\n",
        "B = Matriz(4,4,'diag')\n",
        "print('B = ', B)\n",
        "\n",
        "C = Matriz(4,1,'unos')\n",
        "print('C =', C)\n",
        "\n",
        "D = 3 * B * C\n",
        "print('D = ', D)\n",
        "\n",
        "E = 3 * B + C\n",
        "print('E = ', E)"
      ]
    }
  ],
  "metadata": {
    "kernelspec": {
      "display_name": "ing-caract",
      "language": "python",
      "name": "python3"
    },
    "language_info": {
      "codemirror_mode": {
        "name": "ipython",
        "version": 3
      },
      "file_extension": ".py",
      "mimetype": "text/x-python",
      "name": "python",
      "nbconvert_exporter": "python",
      "pygments_lexer": "ipython3",
      "version": "3.8.13"
    },
    "orig_nbformat": 4,
    "colab": {
      "provenance": []
    }
  },
  "nbformat": 4,
  "nbformat_minor": 0
}